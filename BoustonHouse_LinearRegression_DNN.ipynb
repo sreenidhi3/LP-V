{
 "cells": [
  {
   "cell_type": "code",
   "execution_count": 1,
   "id": "c08f13f5",
   "metadata": {},
   "outputs": [],
   "source": [
    "import tensorflow as tf\n",
    "from tensorflow.keras.datasets import boston_housing\n",
    "from sklearn import preprocessing"
   ]
  },
  {
   "cell_type": "code",
   "execution_count": 12,
   "id": "a9d5a874",
   "metadata": {},
   "outputs": [],
   "source": [
    "(xTrain, yTrain), (xTest, yTest) = boston_housing.load_data()"
   ]
  },
  {
   "cell_type": "code",
   "execution_count": 13,
   "id": "fe972702",
   "metadata": {},
   "outputs": [
    {
     "data": {
      "text/plain": [
       "(404, 13)"
      ]
     },
     "execution_count": 13,
     "metadata": {},
     "output_type": "execute_result"
    }
   ],
   "source": [
    "xTrain.shape"
   ]
  },
  {
   "cell_type": "code",
   "execution_count": 14,
   "id": "67300908",
   "metadata": {},
   "outputs": [
    {
     "data": {
      "text/plain": [
       "(102, 13)"
      ]
     },
     "execution_count": 14,
     "metadata": {},
     "output_type": "execute_result"
    }
   ],
   "source": [
    "xTest.shape"
   ]
  },
  {
   "cell_type": "code",
   "execution_count": 15,
   "id": "c090b070",
   "metadata": {},
   "outputs": [
    {
     "data": {
      "text/plain": [
       "(404,)"
      ]
     },
     "execution_count": 15,
     "metadata": {},
     "output_type": "execute_result"
    }
   ],
   "source": [
    "yTrain.shape"
   ]
  },
  {
   "cell_type": "code",
   "execution_count": 16,
   "id": "f799d9ee",
   "metadata": {},
   "outputs": [
    {
     "data": {
      "text/plain": [
       "(102,)"
      ]
     },
     "execution_count": 16,
     "metadata": {},
     "output_type": "execute_result"
    }
   ],
   "source": [
    "yTest.shape"
   ]
  },
  {
   "cell_type": "code",
   "execution_count": 20,
   "id": "ed74ade7",
   "metadata": {},
   "outputs": [
    {
     "name": "stdout",
     "output_type": "stream",
     "text": [
      "[  1.23247   0.        8.14      0.        0.538     6.142    91.7\n",
      "   3.9769    4.      307.       21.      396.9      18.72   ]\n"
     ]
    }
   ],
   "source": [
    "print(xTrain[0])"
   ]
  },
  {
   "cell_type": "code",
   "execution_count": 21,
   "id": "51a6c998",
   "metadata": {},
   "outputs": [
    {
     "name": "stdout",
     "output_type": "stream",
     "text": [
      "15.2\n"
     ]
    }
   ],
   "source": [
    "print(yTrain[0])"
   ]
  },
  {
   "cell_type": "code",
   "execution_count": 23,
   "id": "2a31b563",
   "metadata": {},
   "outputs": [],
   "source": [
    "xTrain = preprocessing.normalize(xTrain)\n",
    "xTest = preprocessing.normalize(xTest)"
   ]
  },
  {
   "cell_type": "code",
   "execution_count": 28,
   "id": "282afbdf",
   "metadata": {},
   "outputs": [
    {
     "data": {
      "text/plain": [
       "array([0.0024119 , 0.        , 0.01592969, 0.        , 0.00105285,\n",
       "       0.01201967, 0.17945359, 0.00778265, 0.00782786, 0.6007879 ,\n",
       "       0.04109624, 0.77671895, 0.03663436])"
      ]
     },
     "execution_count": 28,
     "metadata": {},
     "output_type": "execute_result"
    }
   ],
   "source": [
    "xTrain[0]"
   ]
  },
  {
   "cell_type": "code",
   "execution_count": 26,
   "id": "4f22446e",
   "metadata": {},
   "outputs": [],
   "source": [
    "from tensorflow.keras.models import Sequential\n",
    "from tensorflow.keras.layers import *"
   ]
  },
  {
   "cell_type": "code",
   "execution_count": 60,
   "id": "531d7388",
   "metadata": {},
   "outputs": [],
   "source": [
    "def HousePricePredictions():\n",
    "    \n",
    "    model = Sequential()\n",
    "    \n",
    "    model.add(Dense(30, activation='relu', input_shape=(xTrain[0].shape)))\n",
    "    model.add(Dense(1, activation='linear'))\n",
    "    \n",
    "    model.compile(optimizer='adam', loss='mse', metrics=['mae'])\n",
    "    \n",
    "    return model"
   ]
  },
  {
   "cell_type": "code",
   "execution_count": 61,
   "id": "4b18cd23",
   "metadata": {},
   "outputs": [],
   "source": [
    "import numpy as np"
   ]
  },
  {
   "cell_type": "code",
   "execution_count": 62,
   "id": "3ec39b9b",
   "metadata": {},
   "outputs": [],
   "source": [
    "k=4\n",
    "sample_size = len(xTrain)\n",
    "num_epocs = 100\n",
    "all_scores = []"
   ]
  },
  {
   "cell_type": "code",
   "execution_count": 63,
   "id": "411e28f6",
   "metadata": {},
   "outputs": [],
   "source": [
    "model = HousePricePredictions()"
   ]
  },
  {
   "cell_type": "code",
   "execution_count": 65,
   "id": "e0c91049",
   "metadata": {},
   "outputs": [
    {
     "name": "stdout",
     "output_type": "stream",
     "text": [
      "Epoch 1/100\n",
      "81/81 [==============================] - 1s 7ms/step - loss: 552.3133 - mae: 21.6259 - val_loss: 553.1625 - val_mae: 21.6795\n",
      "Epoch 2/100\n",
      "81/81 [==============================] - 0s 3ms/step - loss: 489.5071 - mae: 20.1172 - val_loss: 473.4649 - val_mae: 19.7571\n",
      "Epoch 3/100\n",
      "81/81 [==============================] - 0s 3ms/step - loss: 401.3207 - mae: 17.7833 - val_loss: 372.9802 - val_mae: 17.0414\n",
      "Epoch 4/100\n",
      "81/81 [==============================] - 0s 4ms/step - loss: 302.9436 - mae: 14.8298 - val_loss: 272.4789 - val_mae: 14.0197\n",
      "Epoch 5/100\n",
      "81/81 [==============================] - 0s 3ms/step - loss: 214.3815 - mae: 11.6378 - val_loss: 190.4645 - val_mae: 11.2077\n",
      "Epoch 6/100\n",
      "81/81 [==============================] - 0s 3ms/step - loss: 149.7910 - mae: 8.9881 - val_loss: 134.6629 - val_mae: 8.9647\n",
      "Epoch 7/100\n",
      "81/81 [==============================] - 0s 3ms/step - loss: 110.5249 - mae: 7.3552 - val_loss: 103.7101 - val_mae: 7.4855\n",
      "Epoch 8/100\n",
      "81/81 [==============================] - 0s 3ms/step - loss: 91.7636 - mae: 6.5419 - val_loss: 89.4803 - val_mae: 6.6996\n",
      "Epoch 9/100\n",
      "81/81 [==============================] - 0s 2ms/step - loss: 84.2665 - mae: 6.3686 - val_loss: 83.7342 - val_mae: 6.4455\n",
      "Epoch 10/100\n",
      "81/81 [==============================] - 0s 2ms/step - loss: 81.3465 - mae: 6.3459 - val_loss: 81.0851 - val_mae: 6.3797\n",
      "Epoch 11/100\n",
      "81/81 [==============================] - 0s 4ms/step - loss: 79.8988 - mae: 6.3377 - val_loss: 79.5099 - val_mae: 6.3364\n",
      "Epoch 12/100\n",
      "81/81 [==============================] - 0s 4ms/step - loss: 78.7633 - mae: 6.3433 - val_loss: 78.1688 - val_mae: 6.2989\n",
      "Epoch 13/100\n",
      "81/81 [==============================] - 0s 4ms/step - loss: 77.7130 - mae: 6.2751 - val_loss: 77.0781 - val_mae: 6.2619\n",
      "Epoch 14/100\n",
      "81/81 [==============================] - 0s 5ms/step - loss: 76.7938 - mae: 6.2594 - val_loss: 76.0320 - val_mae: 6.2284\n",
      "Epoch 15/100\n",
      "81/81 [==============================] - 0s 4ms/step - loss: 75.8280 - mae: 6.2204 - val_loss: 74.9065 - val_mae: 6.1951\n",
      "Epoch 16/100\n",
      "81/81 [==============================] - 0s 3ms/step - loss: 74.9238 - mae: 6.1425 - val_loss: 74.0345 - val_mae: 6.1500\n",
      "Epoch 17/100\n",
      "81/81 [==============================] - 0s 3ms/step - loss: 73.9691 - mae: 6.0992 - val_loss: 73.0648 - val_mae: 6.1141\n",
      "Epoch 18/100\n",
      "81/81 [==============================] - 0s 2ms/step - loss: 73.0781 - mae: 6.0713 - val_loss: 72.2241 - val_mae: 6.0746\n",
      "Epoch 19/100\n",
      "81/81 [==============================] - 0s 2ms/step - loss: 72.2121 - mae: 6.0068 - val_loss: 71.3834 - val_mae: 6.0393\n",
      "Epoch 20/100\n",
      "81/81 [==============================] - 0s 2ms/step - loss: 71.3178 - mae: 5.9901 - val_loss: 70.4858 - val_mae: 6.0106\n",
      "Epoch 21/100\n",
      "81/81 [==============================] - 0s 2ms/step - loss: 70.4819 - mae: 5.9504 - val_loss: 69.5653 - val_mae: 5.9812\n",
      "Epoch 22/100\n",
      "81/81 [==============================] - 0s 2ms/step - loss: 69.8030 - mae: 5.8920 - val_loss: 69.0289 - val_mae: 5.9459\n",
      "Epoch 23/100\n",
      "81/81 [==============================] - 0s 2ms/step - loss: 69.0399 - mae: 5.8138 - val_loss: 68.3393 - val_mae: 5.9162\n",
      "Epoch 24/100\n",
      "81/81 [==============================] - 0s 2ms/step - loss: 68.2205 - mae: 5.7377 - val_loss: 67.2029 - val_mae: 5.9070\n",
      "Epoch 25/100\n",
      "81/81 [==============================] - 0s 2ms/step - loss: 67.6986 - mae: 5.8297 - val_loss: 66.6548 - val_mae: 5.8736\n",
      "Epoch 26/100\n",
      "81/81 [==============================] - 0s 5ms/step - loss: 66.8865 - mae: 5.6883 - val_loss: 66.0542 - val_mae: 5.8475\n",
      "Epoch 27/100\n",
      "81/81 [==============================] - 0s 4ms/step - loss: 66.3696 - mae: 5.7366 - val_loss: 65.4883 - val_mae: 5.8170\n",
      "Epoch 28/100\n",
      "81/81 [==============================] - 0s 4ms/step - loss: 65.6358 - mae: 5.6328 - val_loss: 64.7719 - val_mae: 5.7959\n",
      "Epoch 29/100\n",
      "81/81 [==============================] - 0s 4ms/step - loss: 65.1003 - mae: 5.6501 - val_loss: 64.1913 - val_mae: 5.7682\n",
      "Epoch 30/100\n",
      "81/81 [==============================] - 0s 4ms/step - loss: 64.5868 - mae: 5.6161 - val_loss: 63.9250 - val_mae: 5.7431\n",
      "Epoch 31/100\n",
      "81/81 [==============================] - 0s 4ms/step - loss: 64.0689 - mae: 5.4848 - val_loss: 62.9349 - val_mae: 5.7303\n",
      "Epoch 32/100\n",
      "81/81 [==============================] - 0s 4ms/step - loss: 63.6527 - mae: 5.5226 - val_loss: 62.5075 - val_mae: 5.7078\n",
      "Epoch 33/100\n",
      "81/81 [==============================] - 0s 3ms/step - loss: 63.1083 - mae: 5.5269 - val_loss: 62.1600 - val_mae: 5.6863\n",
      "Epoch 34/100\n",
      "81/81 [==============================] - 0s 2ms/step - loss: 62.7304 - mae: 5.5293 - val_loss: 61.8239 - val_mae: 5.6665\n",
      "Epoch 35/100\n",
      "81/81 [==============================] - 0s 2ms/step - loss: 62.2646 - mae: 5.4797 - val_loss: 61.2219 - val_mae: 5.6521\n",
      "Epoch 36/100\n",
      "81/81 [==============================] - 0s 2ms/step - loss: 61.8574 - mae: 5.4217 - val_loss: 60.7027 - val_mae: 5.6405\n",
      "Epoch 37/100\n",
      "81/81 [==============================] - 0s 2ms/step - loss: 61.6472 - mae: 5.4652 - val_loss: 60.2846 - val_mae: 5.6261\n",
      "Epoch 38/100\n",
      "81/81 [==============================] - 0s 2ms/step - loss: 61.1468 - mae: 5.4629 - val_loss: 60.1523 - val_mae: 5.6104\n",
      "Epoch 39/100\n",
      "81/81 [==============================] - 0s 2ms/step - loss: 60.8839 - mae: 5.3676 - val_loss: 59.9035 - val_mae: 5.5969\n",
      "Epoch 40/100\n",
      "81/81 [==============================] - 0s 2ms/step - loss: 60.7430 - mae: 5.4754 - val_loss: 59.7042 - val_mae: 5.5826\n",
      "Epoch 41/100\n",
      "81/81 [==============================] - 0s 3ms/step - loss: 60.3630 - mae: 5.3555 - val_loss: 59.4086 - val_mae: 5.5722\n",
      "Epoch 42/100\n",
      "81/81 [==============================] - 0s 4ms/step - loss: 60.0985 - mae: 5.2809 - val_loss: 58.9581 - val_mae: 5.5636\n",
      "Epoch 43/100\n",
      "81/81 [==============================] - 0s 4ms/step - loss: 59.7302 - mae: 5.3719 - val_loss: 58.7023 - val_mae: 5.5558\n",
      "Epoch 44/100\n",
      "81/81 [==============================] - 0s 4ms/step - loss: 59.5007 - mae: 5.3908 - val_loss: 58.4293 - val_mae: 5.5489\n",
      "Epoch 45/100\n",
      "81/81 [==============================] - 0s 4ms/step - loss: 59.3185 - mae: 5.3428 - val_loss: 58.2453 - val_mae: 5.5415\n",
      "Epoch 46/100\n",
      "81/81 [==============================] - 0s 4ms/step - loss: 59.0332 - mae: 5.3566 - val_loss: 58.1186 - val_mae: 5.5336\n",
      "Epoch 47/100\n",
      "81/81 [==============================] - 0s 4ms/step - loss: 58.9151 - mae: 5.3113 - val_loss: 57.7767 - val_mae: 5.5283\n",
      "Epoch 48/100\n",
      "81/81 [==============================] - 0s 4ms/step - loss: 58.7124 - mae: 5.3287 - val_loss: 57.7332 - val_mae: 5.5197\n",
      "Epoch 49/100\n",
      "81/81 [==============================] - 0s 4ms/step - loss: 58.4460 - mae: 5.2862 - val_loss: 57.3015 - val_mae: 5.5186\n",
      "Epoch 50/100\n",
      "81/81 [==============================] - 0s 4ms/step - loss: 58.2802 - mae: 5.2894 - val_loss: 57.2229 - val_mae: 5.5093\n",
      "Epoch 51/100\n",
      "81/81 [==============================] - 0s 4ms/step - loss: 58.1189 - mae: 5.3065 - val_loss: 57.3136 - val_mae: 5.4997\n",
      "Epoch 52/100\n",
      "81/81 [==============================] - 0s 4ms/step - loss: 58.0079 - mae: 5.2720 - val_loss: 56.9117 - val_mae: 5.4983\n",
      "Epoch 53/100\n",
      "81/81 [==============================] - 0s 3ms/step - loss: 58.0258 - mae: 5.2446 - val_loss: 56.4935 - val_mae: 5.5055\n",
      "Epoch 54/100\n",
      "81/81 [==============================] - 0s 2ms/step - loss: 57.6291 - mae: 5.3334 - val_loss: 56.6368 - val_mae: 5.4852\n",
      "Epoch 55/100\n",
      "81/81 [==============================] - 0s 2ms/step - loss: 57.4940 - mae: 5.2694 - val_loss: 56.9138 - val_mae: 5.4782\n",
      "Epoch 56/100\n",
      "81/81 [==============================] - 0s 2ms/step - loss: 57.3842 - mae: 5.2663 - val_loss: 56.3281 - val_mae: 5.4744\n",
      "Epoch 57/100\n",
      "81/81 [==============================] - 0s 2ms/step - loss: 57.2820 - mae: 5.2237 - val_loss: 56.4722 - val_mae: 5.4661\n",
      "Epoch 58/100\n",
      "81/81 [==============================] - 0s 2ms/step - loss: 57.0996 - mae: 5.2547 - val_loss: 56.0809 - val_mae: 5.4629\n",
      "Epoch 59/100\n",
      "81/81 [==============================] - 0s 3ms/step - loss: 57.1160 - mae: 5.2822 - val_loss: 56.6701 - val_mae: 5.4603\n",
      "Epoch 60/100\n",
      "81/81 [==============================] - 0s 2ms/step - loss: 56.8604 - mae: 5.1872 - val_loss: 56.2069 - val_mae: 5.4510\n",
      "Epoch 61/100\n",
      "81/81 [==============================] - 0s 4ms/step - loss: 56.6883 - mae: 5.1839 - val_loss: 55.9284 - val_mae: 5.4440\n",
      "Epoch 62/100\n"
     ]
    },
    {
     "name": "stdout",
     "output_type": "stream",
     "text": [
      "81/81 [==============================] - 0s 4ms/step - loss: 56.5797 - mae: 5.2577 - val_loss: 55.7069 - val_mae: 5.4389\n",
      "Epoch 63/100\n",
      "81/81 [==============================] - 0s 4ms/step - loss: 56.4357 - mae: 5.2272 - val_loss: 55.6353 - val_mae: 5.4333\n",
      "Epoch 64/100\n",
      "81/81 [==============================] - 0s 4ms/step - loss: 56.3830 - mae: 5.2697 - val_loss: 55.7858 - val_mae: 5.4303\n",
      "Epoch 65/100\n",
      "81/81 [==============================] - 0s 4ms/step - loss: 56.2139 - mae: 5.1618 - val_loss: 55.5518 - val_mae: 5.4231\n",
      "Epoch 66/100\n",
      "81/81 [==============================] - 0s 4ms/step - loss: 56.0651 - mae: 5.1761 - val_loss: 55.4691 - val_mae: 5.4180\n",
      "Epoch 67/100\n",
      "81/81 [==============================] - 0s 4ms/step - loss: 55.8957 - mae: 5.1999 - val_loss: 55.3640 - val_mae: 5.4127\n",
      "Epoch 68/100\n",
      "81/81 [==============================] - 0s 4ms/step - loss: 55.8973 - mae: 5.1729 - val_loss: 55.0372 - val_mae: 5.4110\n",
      "Epoch 69/100\n",
      "81/81 [==============================] - 0s 4ms/step - loss: 55.7229 - mae: 5.1492 - val_loss: 55.0244 - val_mae: 5.4037\n",
      "Epoch 70/100\n",
      "81/81 [==============================] - 0s 4ms/step - loss: 55.6051 - mae: 5.1298 - val_loss: 54.8752 - val_mae: 5.4022\n",
      "Epoch 71/100\n",
      "81/81 [==============================] - 0s 4ms/step - loss: 55.4775 - mae: 5.1820 - val_loss: 54.8732 - val_mae: 5.3936\n",
      "Epoch 72/100\n",
      "81/81 [==============================] - 0s 2ms/step - loss: 55.3722 - mae: 5.2060 - val_loss: 54.8380 - val_mae: 5.3864\n",
      "Epoch 73/100\n",
      "81/81 [==============================] - 0s 2ms/step - loss: 55.2187 - mae: 5.1449 - val_loss: 54.8272 - val_mae: 5.3817\n",
      "Epoch 74/100\n",
      "81/81 [==============================] - 0s 3ms/step - loss: 55.1561 - mae: 5.1247 - val_loss: 54.7555 - val_mae: 5.3769\n",
      "Epoch 75/100\n",
      "81/81 [==============================] - 0s 3ms/step - loss: 55.0149 - mae: 5.0704 - val_loss: 54.5230 - val_mae: 5.3729\n",
      "Epoch 76/100\n",
      "81/81 [==============================] - 0s 3ms/step - loss: 54.9269 - mae: 5.2221 - val_loss: 54.7186 - val_mae: 5.3699\n",
      "Epoch 77/100\n",
      "81/81 [==============================] - 0s 4ms/step - loss: 54.8908 - mae: 5.0221 - val_loss: 54.3591 - val_mae: 5.3638\n",
      "Epoch 78/100\n",
      "81/81 [==============================] - 0s 4ms/step - loss: 54.7276 - mae: 5.1368 - val_loss: 54.4369 - val_mae: 5.3567\n",
      "Epoch 79/100\n",
      "81/81 [==============================] - 0s 4ms/step - loss: 54.6471 - mae: 5.0915 - val_loss: 54.4959 - val_mae: 5.3544\n",
      "Epoch 80/100\n",
      "81/81 [==============================] - 0s 4ms/step - loss: 54.4337 - mae: 5.1211 - val_loss: 54.2379 - val_mae: 5.3466\n",
      "Epoch 81/100\n",
      "81/81 [==============================] - 0s 4ms/step - loss: 54.3923 - mae: 5.0650 - val_loss: 54.1869 - val_mae: 5.3416\n",
      "Epoch 82/100\n",
      "81/81 [==============================] - 0s 4ms/step - loss: 54.2763 - mae: 5.1032 - val_loss: 54.0895 - val_mae: 5.3363\n",
      "Epoch 83/100\n",
      "81/81 [==============================] - 0s 4ms/step - loss: 54.3734 - mae: 5.1227 - val_loss: 54.2580 - val_mae: 5.3355\n",
      "Epoch 84/100\n",
      "81/81 [==============================] - 0s 4ms/step - loss: 54.0768 - mae: 5.0387 - val_loss: 53.9990 - val_mae: 5.3259\n",
      "Epoch 85/100\n",
      "81/81 [==============================] - 0s 4ms/step - loss: 54.1103 - mae: 5.0597 - val_loss: 53.6950 - val_mae: 5.3313\n",
      "Epoch 86/100\n",
      "81/81 [==============================] - 0s 3ms/step - loss: 53.9436 - mae: 5.1498 - val_loss: 54.0555 - val_mae: 5.3199\n",
      "Epoch 87/100\n",
      "81/81 [==============================] - 0s 2ms/step - loss: 53.8304 - mae: 5.0380 - val_loss: 53.7628 - val_mae: 5.3101\n",
      "Epoch 88/100\n",
      "81/81 [==============================] - 0s 2ms/step - loss: 53.6305 - mae: 5.0450 - val_loss: 53.6589 - val_mae: 5.3046\n",
      "Epoch 89/100\n",
      "81/81 [==============================] - 0s 3ms/step - loss: 53.5802 - mae: 5.0350 - val_loss: 53.7415 - val_mae: 5.3014\n",
      "Epoch 90/100\n",
      "81/81 [==============================] - 0s 4ms/step - loss: 53.6284 - mae: 5.0127 - val_loss: 53.3151 - val_mae: 5.3142\n",
      "Epoch 91/100\n",
      "81/81 [==============================] - 0s 4ms/step - loss: 53.4660 - mae: 5.0592 - val_loss: 53.4030 - val_mae: 5.2922\n",
      "Epoch 92/100\n",
      "81/81 [==============================] - 0s 4ms/step - loss: 53.3523 - mae: 5.0558 - val_loss: 53.4734 - val_mae: 5.2846\n",
      "Epoch 93/100\n",
      "81/81 [==============================] - 0s 4ms/step - loss: 53.2200 - mae: 4.9866 - val_loss: 53.4336 - val_mae: 5.2797\n",
      "Epoch 94/100\n",
      "81/81 [==============================] - 0s 4ms/step - loss: 53.1810 - mae: 5.0783 - val_loss: 53.1759 - val_mae: 5.2776\n",
      "Epoch 95/100\n",
      "81/81 [==============================] - 0s 4ms/step - loss: 53.1702 - mae: 5.0140 - val_loss: 53.4753 - val_mae: 5.2731\n",
      "Epoch 96/100\n",
      "81/81 [==============================] - 0s 4ms/step - loss: 52.9045 - mae: 5.0307 - val_loss: 53.1943 - val_mae: 5.2634\n",
      "Epoch 97/100\n",
      "81/81 [==============================] - 0s 4ms/step - loss: 52.8415 - mae: 4.9591 - val_loss: 53.0560 - val_mae: 5.2595\n",
      "Epoch 98/100\n",
      "81/81 [==============================] - 0s 4ms/step - loss: 52.8098 - mae: 5.0208 - val_loss: 52.9908 - val_mae: 5.2538\n",
      "Epoch 99/100\n",
      "81/81 [==============================] - 0s 4ms/step - loss: 52.7608 - mae: 4.9870 - val_loss: 52.8632 - val_mae: 5.2513\n",
      "Epoch 100/100\n",
      "81/81 [==============================] - 0s 4ms/step - loss: 52.5439 - mae: 4.9835 - val_loss: 52.9926 - val_mae: 5.2438\n"
     ]
    }
   ],
   "source": [
    "history = model.fit(xTrain, yTrain, epochs = num_epocs, batch_size=5, verbose=1, validation_data = (xTest, yTest))\n",
    "\n",
    "#batch_size = 1 :- after every sample we backpropagate"
   ]
  },
  {
   "cell_type": "code",
   "execution_count": 73,
   "id": "389ed5f7",
   "metadata": {},
   "outputs": [
    {
     "name": "stdout",
     "output_type": "stream",
     "text": [
      "4/4 [==============================] - 0s 3ms/step\n"
     ]
    }
   ],
   "source": [
    "yPred = model.predict(xTest)"
   ]
  },
  {
   "cell_type": "code",
   "execution_count": 74,
   "id": "bc0b7a09",
   "metadata": {},
   "outputs": [
    {
     "data": {
      "text/plain": [
       "array([8.542499], dtype=float32)"
      ]
     },
     "execution_count": 74,
     "metadata": {},
     "output_type": "execute_result"
    }
   ],
   "source": [
    "yPred[0]"
   ]
  },
  {
   "cell_type": "code",
   "execution_count": 75,
   "id": "96e1ce12",
   "metadata": {},
   "outputs": [
    {
     "data": {
      "text/plain": [
       "7.2"
      ]
     },
     "execution_count": 75,
     "metadata": {},
     "output_type": "execute_result"
    }
   ],
   "source": [
    "yTest[0]"
   ]
  },
  {
   "cell_type": "code",
   "execution_count": 68,
   "id": "7bff7314",
   "metadata": {},
   "outputs": [],
   "source": [
    "loss = history.history['loss']\n",
    "val_loss = history.history['val_loss']\n",
    "mae = history.history['mae']\n",
    "val_mae = history.history['val_mae']"
   ]
  },
  {
   "cell_type": "code",
   "execution_count": 71,
   "id": "be2ad357",
   "metadata": {},
   "outputs": [
    {
     "data": {
      "image/png": "[encoded data removed]",
      "text/plain": [
       "<Figure size 432x288 with 1 Axes>"
      ]
     },
     "metadata": {
      "needs_background": "light"
     },
     "output_type": "display_data"
    }
   ],
   "source": [
    "import matplotlib.pyplot as plt\n",
    "plt.plot(loss, label='Training loss')\n",
    "plt.plot(val_loss, label='Validation loss')\n",
    "plt.legend()\n",
    "plt.show()\n"
   ]
  },
  {
   "cell_type": "code",
   "execution_count": 72,
   "id": "2cdc19c7",
   "metadata": {},
   "outputs": [
    {
     "data": {
      "image/png": "[encoded data removed]",
      "text/plain": [
       "<Figure size 432x288 with 1 Axes>"
      ]
     },
     "metadata": {
      "needs_background": "light"
     },
     "output_type": "display_data"
    }
   ],
   "source": [
    "plt.plot(mae, label='Training MAE')\n",
    "plt.plot(val_mae, label='Validation MAE')\n",
    "plt.legend()\n",
    "plt.show()"
   ]
  },
  {
   "cell_type": "code",
   "execution_count": null,
   "id": "de53367b",
   "metadata": {},
   "outputs": [],
   "source": []
  },
  {
   "cell_type": "code",
   "execution_count": 64,
   "id": "5ed30f99",
   "metadata": {},
   "outputs": [
    {
     "name": "stdout",
     "output_type": "stream",
     "text": [
      "Help on method fit in module keras.engine.training:\n",
      "\n",
      "fit(x=None, y=None, batch_size=None, epochs=1, verbose='auto', callbacks=None, validation_split=0.0, validation_data=None, shuffle=True, class_weight=None, sample_weight=None, initial_epoch=0, steps_per_epoch=None, validation_steps=None, validation_batch_size=None, validation_freq=1, max_queue_size=10, workers=1, use_multiprocessing=False) method of keras.engine.sequential.Sequential instance\n",
      "    Trains the model for a fixed number of epochs (iterations on a dataset).\n",
      "    \n",
      "    Args:\n",
      "        x: Input data. It could be:\n",
      "          - A Numpy array (or array-like), or a list of arrays\n",
      "            (in case the model has multiple inputs).\n",
      "          - A TensorFlow tensor, or a list of tensors\n",
      "            (in case the model has multiple inputs).\n",
      "          - A dict mapping input names to the corresponding array/tensors,\n",
      "            if the model has named inputs.\n",
      "          - A `tf.data` dataset. Should return a tuple\n",
      "            of either `(inputs, targets)` or\n",
      "            `(inputs, targets, sample_weights)`.\n",
      "          - A generator or `keras.utils.Sequence` returning `(inputs,\n",
      "            targets)` or `(inputs, targets, sample_weights)`.\n",
      "          - A `tf.keras.utils.experimental.DatasetCreator`, which wraps a\n",
      "            callable that takes a single argument of type\n",
      "            `tf.distribute.InputContext`, and returns a `tf.data.Dataset`.\n",
      "            `DatasetCreator` should be used when users prefer to specify the\n",
      "            per-replica batching and sharding logic for the `Dataset`.\n",
      "            See `tf.keras.utils.experimental.DatasetCreator` doc for more\n",
      "            information.\n",
      "          A more detailed description of unpacking behavior for iterator\n",
      "          types (Dataset, generator, Sequence) is given below. If these\n",
      "          include `sample_weights` as a third component, note that sample\n",
      "          weighting applies to the `weighted_metrics` argument but not the\n",
      "          `metrics` argument in `compile()`. If using\n",
      "          `tf.distribute.experimental.ParameterServerStrategy`, only\n",
      "          `DatasetCreator` type is supported for `x`.\n",
      "        y: Target data. Like the input data `x`,\n",
      "          it could be either Numpy array(s) or TensorFlow tensor(s).\n",
      "          It should be consistent with `x` (you cannot have Numpy inputs and\n",
      "          tensor targets, or inversely). If `x` is a dataset, generator,\n",
      "          or `keras.utils.Sequence` instance, `y` should\n",
      "          not be specified (since targets will be obtained from `x`).\n",
      "        batch_size: Integer or `None`.\n",
      "            Number of samples per gradient update.\n",
      "            If unspecified, `batch_size` will default to 32.\n",
      "            Do not specify the `batch_size` if your data is in the\n",
      "            form of datasets, generators, or `keras.utils.Sequence`\n",
      "            instances (since they generate batches).\n",
      "        epochs: Integer. Number of epochs to train the model.\n",
      "            An epoch is an iteration over the entire `x` and `y`\n",
      "            data provided\n",
      "            (unless the `steps_per_epoch` flag is set to\n",
      "            something other than None).\n",
      "            Note that in conjunction with `initial_epoch`,\n",
      "            `epochs` is to be understood as \"final epoch\".\n",
      "            The model is not trained for a number of iterations\n",
      "            given by `epochs`, but merely until the epoch\n",
      "            of index `epochs` is reached.\n",
      "        verbose: 'auto', 0, 1, or 2. Verbosity mode.\n",
      "            0 = silent, 1 = progress bar, 2 = one line per epoch.\n",
      "            'auto' defaults to 1 for most cases, but 2 when used with\n",
      "            `ParameterServerStrategy`. Note that the progress bar is not\n",
      "            particularly useful when logged to a file, so verbose=2 is\n",
      "            recommended when not running interactively (eg, in a production\n",
      "            environment).\n",
      "        callbacks: List of `keras.callbacks.Callback` instances.\n",
      "            List of callbacks to apply during training.\n",
      "            See `tf.keras.callbacks`. Note\n",
      "            `tf.keras.callbacks.ProgbarLogger` and\n",
      "            `tf.keras.callbacks.History` callbacks are created automatically\n",
      "            and need not be passed into `model.fit`.\n",
      "            `tf.keras.callbacks.ProgbarLogger` is created or not based on\n",
      "            `verbose` argument to `model.fit`.\n",
      "            Callbacks with batch-level calls are currently unsupported with\n",
      "            `tf.distribute.experimental.ParameterServerStrategy`, and users\n",
      "            are advised to implement epoch-level calls instead with an\n",
      "            appropriate `steps_per_epoch` value.\n",
      "        validation_split: Float between 0 and 1.\n",
      "            Fraction of the training data to be used as validation data.\n",
      "            The model will set apart this fraction of the training data,\n",
      "            will not train on it, and will evaluate\n",
      "            the loss and any model metrics\n",
      "            on this data at the end of each epoch.\n",
      "            The validation data is selected from the last samples\n",
      "            in the `x` and `y` data provided, before shuffling. This\n",
      "            argument is not supported when `x` is a dataset, generator or\n",
      "            `keras.utils.Sequence` instance.\n",
      "            If both `validation_data` and `validation_split` are provided,\n",
      "            `validation_data` will override `validation_split`.\n",
      "            `validation_split` is not yet supported with\n",
      "            `tf.distribute.experimental.ParameterServerStrategy`.\n",
      "        validation_data: Data on which to evaluate\n",
      "            the loss and any model metrics at the end of each epoch.\n",
      "            The model will not be trained on this data. Thus, note the fact\n",
      "            that the validation loss of data provided using\n",
      "            `validation_split` or `validation_data` is not affected by\n",
      "            regularization layers like noise and dropout.\n",
      "            `validation_data` will override `validation_split`.\n",
      "            `validation_data` could be:\n",
      "              - A tuple `(x_val, y_val)` of Numpy arrays or tensors.\n",
      "              - A tuple `(x_val, y_val, val_sample_weights)` of NumPy\n",
      "                arrays.\n",
      "              - A `tf.data.Dataset`.\n",
      "              - A Python generator or `keras.utils.Sequence` returning\n",
      "              `(inputs, targets)` or `(inputs, targets, sample_weights)`.\n",
      "            `validation_data` is not yet supported with\n",
      "            `tf.distribute.experimental.ParameterServerStrategy`.\n",
      "        shuffle: Boolean (whether to shuffle the training data\n",
      "            before each epoch) or str (for 'batch'). This argument is\n",
      "            ignored when `x` is a generator or an object of tf.data.Dataset.\n",
      "            'batch' is a special option for dealing\n",
      "            with the limitations of HDF5 data; it shuffles in batch-sized\n",
      "            chunks. Has no effect when `steps_per_epoch` is not `None`.\n",
      "        class_weight: Optional dictionary mapping class indices (integers)\n",
      "            to a weight (float) value, used for weighting the loss function\n",
      "            (during training only).\n",
      "            This can be useful to tell the model to\n",
      "            \"pay more attention\" to samples from\n",
      "            an under-represented class.\n",
      "        sample_weight: Optional Numpy array of weights for\n",
      "            the training samples, used for weighting the loss function\n",
      "            (during training only). You can either pass a flat (1D)\n",
      "            Numpy array with the same length as the input samples\n",
      "            (1:1 mapping between weights and samples),\n",
      "            or in the case of temporal data,\n",
      "            you can pass a 2D array with shape\n",
      "            `(samples, sequence_length)`,\n",
      "            to apply a different weight to every timestep of every sample.\n",
      "            This argument is not supported when `x` is a dataset, generator,\n",
      "            or `keras.utils.Sequence` instance, instead provide the\n",
      "            sample_weights as the third element of `x`.\n",
      "            Note that sample weighting does not apply to metrics specified\n",
      "            via the `metrics` argument in `compile()`. To apply sample\n",
      "            weighting to your metrics, you can specify them via the\n",
      "            `weighted_metrics` in `compile()` instead.\n",
      "        initial_epoch: Integer.\n",
      "            Epoch at which to start training\n",
      "            (useful for resuming a previous training run).\n",
      "        steps_per_epoch: Integer or `None`.\n",
      "            Total number of steps (batches of samples)\n",
      "            before declaring one epoch finished and starting the\n",
      "            next epoch. When training with input tensors such as\n",
      "            TensorFlow data tensors, the default `None` is equal to\n",
      "            the number of samples in your dataset divided by\n",
      "            the batch size, or 1 if that cannot be determined. If x is a\n",
      "            `tf.data` dataset, and 'steps_per_epoch'\n",
      "            is None, the epoch will run until the input dataset is\n",
      "            exhausted.  When passing an infinitely repeating dataset, you\n",
      "            must specify the `steps_per_epoch` argument. If\n",
      "            `steps_per_epoch=-1` the training will run indefinitely with an\n",
      "            infinitely repeating dataset.  This argument is not supported\n",
      "            with array inputs.\n",
      "            When using `tf.distribute.experimental.ParameterServerStrategy`:\n",
      "              * `steps_per_epoch=None` is not supported.\n",
      "        validation_steps: Only relevant if `validation_data` is provided and\n",
      "            is a `tf.data` dataset. Total number of steps (batches of\n",
      "            samples) to draw before stopping when performing validation\n",
      "            at the end of every epoch. If 'validation_steps' is None,\n",
      "            validation will run until the `validation_data` dataset is\n",
      "            exhausted. In the case of an infinitely repeated dataset, it\n",
      "            will run into an infinite loop. If 'validation_steps' is\n",
      "            specified and only part of the dataset will be consumed, the\n",
      "            evaluation will start from the beginning of the dataset at each\n",
      "            epoch. This ensures that the same validation samples are used\n",
      "            every time.\n",
      "        validation_batch_size: Integer or `None`.\n",
      "            Number of samples per validation batch.\n",
      "            If unspecified, will default to `batch_size`.\n",
      "            Do not specify the `validation_batch_size` if your data is in\n",
      "            the form of datasets, generators, or `keras.utils.Sequence`\n",
      "            instances (since they generate batches).\n",
      "        validation_freq: Only relevant if validation data is provided.\n",
      "          Integer or `collections.abc.Container` instance (e.g. list, tuple,\n",
      "          etc.).  If an integer, specifies how many training epochs to run\n",
      "          before a new validation run is performed, e.g. `validation_freq=2`\n",
      "          runs validation every 2 epochs. If a Container, specifies the\n",
      "          epochs on which to run validation, e.g.\n",
      "          `validation_freq=[1, 2, 10]` runs validation at the end of the\n",
      "          1st, 2nd, and 10th epochs.\n",
      "        max_queue_size: Integer. Used for generator or\n",
      "          `keras.utils.Sequence` input only. Maximum size for the generator\n",
      "          queue.  If unspecified, `max_queue_size` will default to 10.\n",
      "        workers: Integer. Used for generator or `keras.utils.Sequence` input\n",
      "            only. Maximum number of processes to spin up\n",
      "            when using process-based threading. If unspecified, `workers`\n",
      "            will default to 1.\n",
      "        use_multiprocessing: Boolean. Used for generator or\n",
      "            `keras.utils.Sequence` input only. If `True`, use process-based\n",
      "            threading. If unspecified, `use_multiprocessing` will default to\n",
      "            `False`. Note that because this implementation relies on\n",
      "            multiprocessing, you should not pass non-picklable arguments to\n",
      "            the generator as they can't be passed easily to children\n",
      "            processes.\n",
      "    \n",
      "    Unpacking behavior for iterator-like inputs:\n",
      "        A common pattern is to pass a tf.data.Dataset, generator, or\n",
      "      tf.keras.utils.Sequence to the `x` argument of fit, which will in fact\n",
      "      yield not only features (x) but optionally targets (y) and sample\n",
      "      weights.  Keras requires that the output of such iterator-likes be\n",
      "      unambiguous. The iterator should return a tuple of length 1, 2, or 3,\n",
      "      where the optional second and third elements will be used for y and\n",
      "      sample_weight respectively. Any other type provided will be wrapped in\n",
      "      a length one tuple, effectively treating everything as 'x'. When\n",
      "      yielding dicts, they should still adhere to the top-level tuple\n",
      "      structure.\n",
      "      e.g. `({\"x0\": x0, \"x1\": x1}, y)`. Keras will not attempt to separate\n",
      "      features, targets, and weights from the keys of a single dict.\n",
      "        A notable unsupported data type is the namedtuple. The reason is\n",
      "      that it behaves like both an ordered datatype (tuple) and a mapping\n",
      "      datatype (dict). So given a namedtuple of the form:\n",
      "          `namedtuple(\"example_tuple\", [\"y\", \"x\"])`\n",
      "      it is ambiguous whether to reverse the order of the elements when\n",
      "      interpreting the value. Even worse is a tuple of the form:\n",
      "          `namedtuple(\"other_tuple\", [\"x\", \"y\", \"z\"])`\n",
      "      where it is unclear if the tuple was intended to be unpacked into x,\n",
      "      y, and sample_weight or passed through as a single element to `x`. As\n",
      "      a result the data processing code will simply raise a ValueError if it\n",
      "      encounters a namedtuple. (Along with instructions to remedy the\n",
      "      issue.)\n",
      "    \n",
      "    Returns:\n",
      "        A `History` object. Its `History.history` attribute is\n",
      "        a record of training loss values and metrics values\n",
      "        at successive epochs, as well as validation loss values\n",
      "        and validation metrics values (if applicable).\n",
      "    \n",
      "    Raises:\n",
      "        RuntimeError: 1. If the model was never compiled or,\n",
      "        2. If `model.fit` is  wrapped in `tf.function`.\n",
      "    \n",
      "        ValueError: In case of mismatch between the provided input data\n",
      "            and what the model expects or when the input data is empty.\n",
      "\n"
     ]
    }
   ],
   "source": [
    "help(model.fit)"
   ]
  }
 ],
 "metadata": {
  "kernelspec": {
   "display_name": "Python 3 (ipykernel)",
   "language": "python",
   "name": "python3"
  },
  "language_info": {
   "codemirror_mode": {
    "name": "ipython",
    "version": 3
   },
   "file_extension": ".py",
   "mimetype": "text/x-python",
   "name": "python",
   "nbconvert_exporter": "python",
   "pygments_lexer": "ipython3",
   "version": "3.9.7"
  }
 },
 "nbformat": 4,
 "nbformat_minor": 5
}
